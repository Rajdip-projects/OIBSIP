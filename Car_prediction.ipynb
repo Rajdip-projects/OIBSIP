{
  "nbformat": 4,
  "nbformat_minor": 0,
  "metadata": {
    "colab": {
      "provenance": [],
      "authorship_tag": "ABX9TyN192Gtg9Y7+6aWQA9a2CKd",
      "include_colab_link": true
    },
    "kernelspec": {
      "name": "python3",
      "display_name": "Python 3"
    },
    "language_info": {
      "name": "python"
    }
  },
  "cells": [
    {
      "cell_type": "markdown",
      "metadata": {
        "id": "view-in-github",
        "colab_type": "text"
      },
      "source": [
        "<a href=\"https://colab.research.google.com/github/Rajdip-projects/OIBSIP/blob/main/Car_prediction.ipynb\" target=\"_parent\"><img src=\"https://colab.research.google.com/assets/colab-badge.svg\" alt=\"Open In Colab\"/></a>"
      ]
    },
    {
      "cell_type": "code",
      "execution_count": 1,
      "metadata": {
        "colab": {
          "base_uri": "https://localhost:8080/"
        },
        "id": "QzvFw_j-I0i7",
        "outputId": "2c6725d0-1755-48cf-a6c5-1f131c10e307"
      },
      "outputs": [
        {
          "output_type": "stream",
          "name": "stdout",
          "text": [
            "Cloning into 'OIBSIP'...\n",
            "remote: Enumerating objects: 8, done.\u001b[K\n",
            "remote: Counting objects: 100% (8/8), done.\u001b[K\n",
            "remote: Compressing objects: 100% (5/5), done.\u001b[K\n",
            "remote: Total 8 (delta 0), reused 8 (delta 0), pack-reused 0\u001b[K\n",
            "Receiving objects: 100% (8/8), 5.33 KiB | 5.33 MiB/s, done.\n"
          ]
        }
      ],
      "source": [
        "!git clone https://github.com/Rajdip-projects/OIBSIP.git"
      ]
    },
    {
      "cell_type": "code",
      "source": [
        "import pandas as pd\n",
        "import matplotlib.pyplot as plt\n",
        "import seaborn as sns\n",
        "\n",
        "# Load the data\n",
        "data = pd.read_csv(\"/content/OIBSIP/Datasets/car data.csv\")\n",
        "print(data.head())\n"
      ],
      "metadata": {
        "colab": {
          "base_uri": "https://localhost:8080/"
        },
        "id": "DEilW7d1JK02",
        "outputId": "2cc26ab5-6159-4efc-d781-8a0814972779"
      },
      "execution_count": 10,
      "outputs": [
        {
          "output_type": "stream",
          "name": "stdout",
          "text": [
            "  Car_Name  Year  Selling_Price  Present_Price  Driven_kms Fuel_Type  \\\n",
            "0     ritz  2014           3.35           5.59       27000    Petrol   \n",
            "1      sx4  2013           4.75           9.54       43000    Diesel   \n",
            "2     ciaz  2017           7.25           9.85        6900    Petrol   \n",
            "3  wagon r  2011           2.85           4.15        5200    Petrol   \n",
            "4    swift  2014           4.60           6.87       42450    Diesel   \n",
            "\n",
            "  Selling_type Transmission  Owner  \n",
            "0       Dealer       Manual      0  \n",
            "1       Dealer       Manual      0  \n",
            "2       Dealer       Manual      0  \n",
            "3       Dealer       Manual      0  \n",
            "4       Dealer       Manual      0  \n"
          ]
        }
      ]
    },
    {
      "cell_type": "code",
      "source": [
        "# Check for missing values\n",
        "print(data.isnull().sum())\n",
        "\n",
        "# Drop rows with missing values (if any)\n",
        "data = data.dropna()\n",
        "\n",
        "# Convert categorical variables to numeric using one-hot encoding\n",
        "data = pd.get_dummies(data, columns=['Fuel_Type', 'Selling_type', 'Transmission'], drop_first=True)\n",
        "\n",
        "# Display the first few rows of the cleaned data\n",
        "print(data.head())\n"
      ],
      "metadata": {
        "colab": {
          "base_uri": "https://localhost:8080/"
        },
        "id": "sn2hHNDiJvsO",
        "outputId": "bfa8a3b6-9bcb-4ab6-da50-01b99c691644"
      },
      "execution_count": 11,
      "outputs": [
        {
          "output_type": "stream",
          "name": "stdout",
          "text": [
            "Car_Name         0\n",
            "Year             0\n",
            "Selling_Price    0\n",
            "Present_Price    0\n",
            "Driven_kms       0\n",
            "Fuel_Type        0\n",
            "Selling_type     0\n",
            "Transmission     0\n",
            "Owner            0\n",
            "dtype: int64\n",
            "  Car_Name  Year  Selling_Price  Present_Price  Driven_kms  Owner  \\\n",
            "0     ritz  2014           3.35           5.59       27000      0   \n",
            "1      sx4  2013           4.75           9.54       43000      0   \n",
            "2     ciaz  2017           7.25           9.85        6900      0   \n",
            "3  wagon r  2011           2.85           4.15        5200      0   \n",
            "4    swift  2014           4.60           6.87       42450      0   \n",
            "\n",
            "   Fuel_Type_Diesel  Fuel_Type_Petrol  Selling_type_Individual  \\\n",
            "0             False              True                    False   \n",
            "1              True             False                    False   \n",
            "2             False              True                    False   \n",
            "3             False              True                    False   \n",
            "4              True             False                    False   \n",
            "\n",
            "   Transmission_Manual  \n",
            "0                 True  \n",
            "1                 True  \n",
            "2                 True  \n",
            "3                 True  \n",
            "4                 True  \n"
          ]
        }
      ]
    },
    {
      "cell_type": "code",
      "source": [
        "# Define the feature set and target variable\n",
        "X = data.drop(['Car_Name', 'Selling_Price'], axis=1)\n",
        "y = data['Selling_Price']\n",
        "\n",
        "# Display the feature set and target variable\n",
        "print(X.head())\n",
        "print(y.head())\n"
      ],
      "metadata": {
        "colab": {
          "base_uri": "https://localhost:8080/"
        },
        "id": "4Q6C4hoQJ1fV",
        "outputId": "43912207-72bd-45e0-f4b7-f5464ee70099"
      },
      "execution_count": 12,
      "outputs": [
        {
          "output_type": "stream",
          "name": "stdout",
          "text": [
            "   Year  Present_Price  Driven_kms  Owner  Fuel_Type_Diesel  Fuel_Type_Petrol  \\\n",
            "0  2014           5.59       27000      0             False              True   \n",
            "1  2013           9.54       43000      0              True             False   \n",
            "2  2017           9.85        6900      0             False              True   \n",
            "3  2011           4.15        5200      0             False              True   \n",
            "4  2014           6.87       42450      0              True             False   \n",
            "\n",
            "   Selling_type_Individual  Transmission_Manual  \n",
            "0                    False                 True  \n",
            "1                    False                 True  \n",
            "2                    False                 True  \n",
            "3                    False                 True  \n",
            "4                    False                 True  \n",
            "0    3.35\n",
            "1    4.75\n",
            "2    7.25\n",
            "3    2.85\n",
            "4    4.60\n",
            "Name: Selling_Price, dtype: float64\n"
          ]
        }
      ]
    },
    {
      "cell_type": "code",
      "source": [
        "from sklearn.model_selection import train_test_split\n",
        "\n",
        "X_train, X_test, y_train, y_test = train_test_split(X, y, test_size=0.2, random_state=42)\n"
      ],
      "metadata": {
        "id": "lEBRYl6iJ-nt"
      },
      "execution_count": 13,
      "outputs": []
    },
    {
      "cell_type": "code",
      "source": [
        "from sklearn.linear_model import LinearRegression\n",
        "\n",
        "# Initialize and train the model\n",
        "model = LinearRegression()\n",
        "model.fit(X_train, y_train)\n",
        "\n",
        "# Make predictions\n",
        "y_pred = model.predict(X_test)\n"
      ],
      "metadata": {
        "id": "fCtlm49JKCNV"
      },
      "execution_count": 14,
      "outputs": []
    },
    {
      "cell_type": "code",
      "source": [
        "from sklearn.metrics import mean_absolute_error, mean_squared_error, r2_score\n",
        "\n",
        "# Calculate evaluation metrics\n",
        "mae = mean_absolute_error(y_test, y_pred)\n",
        "mse = mean_squared_error(y_test, y_pred)\n",
        "rmse = mse ** 0.5\n",
        "r2 = r2_score(y_test, y_pred)\n",
        "\n",
        "print(f'MAE: {mae}')\n",
        "print(f'MSE: {mse}')\n",
        "print(f'RMSE: {rmse}')\n",
        "print(f'R2 Score: {r2}')\n"
      ],
      "metadata": {
        "colab": {
          "base_uri": "https://localhost:8080/"
        },
        "id": "PEVnWT3SKGAl",
        "outputId": "99dc4be7-c75e-4788-efd0-252fffea2e50"
      },
      "execution_count": 15,
      "outputs": [
        {
          "output_type": "stream",
          "name": "stdout",
          "text": [
            "MAE: 1.2163740193336217\n",
            "MSE: 3.4813498305146187\n",
            "RMSE: 1.865837568094988\n",
            "R2 Score: 0.8488707839191938\n"
          ]
        }
      ]
    },
    {
      "cell_type": "code",
      "source": [
        "from sklearn.ensemble import RandomForestRegressor\n",
        "\n",
        "# Initialize and train the model\n",
        "model = RandomForestRegressor(n_estimators=100, random_state=42)\n",
        "model.fit(X_train, y_train)\n",
        "\n",
        "# Make predictions\n",
        "y_pred = model.predict(X_test)\n",
        "\n",
        "# Recalculate evaluation metrics\n",
        "mae = mean_absolute_error(y_test, y_pred)\n",
        "mse = mean_squared_error(y_test, y_pred)\n",
        "rmse = mse ** 0.5\n",
        "r2 = r2_score(y_test, y_pred)\n",
        "\n",
        "print(f'MAE: {mae}')\n",
        "print(f'MSE: {mse}')\n",
        "print(f'RMSE: {rmse}')\n",
        "print(f'R2 Score: {r2}')\n"
      ],
      "metadata": {
        "colab": {
          "base_uri": "https://localhost:8080/"
        },
        "id": "RZsArA2wKUn9",
        "outputId": "0110c0c2-de0a-452c-c580-0d040cf4ce37"
      },
      "execution_count": 16,
      "outputs": [
        {
          "output_type": "stream",
          "name": "stdout",
          "text": [
            "MAE: 0.5971295081967213\n",
            "MSE: 0.8209857844262285\n",
            "RMSE: 0.906082658716206\n",
            "R2 Score: 0.9643601062650229\n"
          ]
        }
      ]
    },
    {
      "cell_type": "code",
      "source": [
        "# Create a scatter plot\n",
        "plt.figure(figsize=(10, 6))\n",
        "sns.scatterplot(x=y_test, y=y_pred, marker='o', color='red')\n",
        "\n",
        "# Add a line for perfect prediction\n",
        "plt.plot([y_test.min(), y_test.max()], [y_test.min(), y_test.max()], 'k--', lw=2)\n",
        "\n",
        "# Add labels and title\n",
        "plt.xlabel('Actual Selling Price')\n",
        "plt.ylabel('Predicted Selling Price')\n",
        "plt.title('Actual vs Predicted Selling Prices')\n",
        "\n",
        "# Show the plot\n",
        "plt.show()"
      ],
      "metadata": {
        "colab": {
          "base_uri": "https://localhost:8080/",
          "height": 564
        },
        "id": "YB9NgB7gLkEm",
        "outputId": "b00de429-47be-4111-b5d7-0fc8b088b0bd"
      },
      "execution_count": 19,
      "outputs": [
        {
          "output_type": "display_data",
          "data": {
            "text/plain": [
              "<Figure size 1000x600 with 1 Axes>"
            ],
            "image/png": "[encoded data removed]"
          },
          "metadata": {}
        }
      ]
    }
  ]
}